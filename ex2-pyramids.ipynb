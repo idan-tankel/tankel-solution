{
  "cells": [
    {
      "cell_type": "markdown",
      "source": [
        "# Assignment 2: Multi-Scale Pyramids\n",
        "\n",
        "## General Information\n",
        "**Submmision:** in pairs.\n",
        "\n",
        "## Introduction\n",
        "In this exercise you will practice working with image pyramids, and get some first-hand experience with two of their applications:\n",
        "* **Image focusing:** Using two or more images taken with different planes of focus in order to get a multi-focus image.\n",
        "* **Image mosaicing:** Stitching images together in a visually-appealing way.\n",
        "\n",
        "The exercise involves coding with Python. If you're unfamiliar with python, you may use the following [tutorial](http://cs231n.github.io/python-numpy-tutorial/).\n",
        "\n",
        "**Note:** some cells are read-only, and can't be modified. There are also some read-only empty cells, that contain hidden tests."
      ],
      "metadata": {
        "deletable": false,
        "editable": false,
        "nbgrader": {
          "cell_type": "markdown",
          "checksum": "efea0210a81fca40bba2b1e02966b803",
          "grade": false,
          "grade_id": "cell-63f5067df035230d",
          "locked": true,
          "schema_version": 3,
          "solution": false
        }
      }
    },
    {
      "cell_type": "markdown",
      "source": [
        "## Student details\n",
        "\n",
        "### Student A\n",
        "**Name:**\n",
        "Idan Tankel\n",
        "\n",
        "\n",
        "**Email:**\n",
        "shakel002@gmail.com\n",
        "idan.tankel@weizmann.ac.il\n",
        "\n",
        "**ID:**\n",
        "209056712\n",
        "\n",
        "**Note**\n",
        "This notebook was edited in Azure machine learning studio"
      ],
      "metadata": {
        "deletable": false,
        "nbgrader": {
          "cell_type": "markdown",
          "checksum": "8254d76ed0ff7454be4912a197c6ed2c",
          "grade": true,
          "grade_id": "cell-9c316bfce0678cb3",
          "locked": false,
          "points": 0,
          "schema_version": 3,
          "solution": true
        }
      }
    },
    {
      "cell_type": "markdown",
      "source": [
        "## Tips and Remarks\n",
        "- General\n",
        "    - Prefer the use of built-in functions when possible, as they are much\n",
        "faster (and extensively tested)\n",
        "    - To avoid confusion, it is better to use the terms \"finest level\" and\n",
        "\"coarsest level\", instead of \"top level\" and \"bottom level\"\n",
        "    - Add proper documentation to your code\n",
        "- Python tips\n",
        "    - To sub-sample a vector, you can use this syntax: `vec[::2]` (this\n",
        "will take only the even indices)\n",
        "    - The following numpy methods may be useful, especially in the last\n",
        "task: `where`, `argmax`, `which`"
      ],
      "metadata": {
        "deletable": false,
        "editable": false,
        "nbgrader": {
          "cell_type": "markdown",
          "checksum": "b9f5c5f3422ca2731aa3a1ddd939be37",
          "grade": false,
          "grade_id": "cell-77ddbaa26ab47b94",
          "locked": true,
          "schema_version": 3,
          "solution": false
        }
      }
    },
    {
      "cell_type": "code",
      "source": [
        "from collections import namedtuple\n",
        "\n",
        "import numpy as np\n",
        "from scipy.ndimage import convolve\n",
        "import ipywidgets as widgets\n",
        "\n",
        "from utils import imread, imwrite as _imwrite, imshow as _imshow, rgb2grey"
      ],
      "outputs": [],
      "execution_count": null,
      "metadata": {
        "deletable": false,
        "editable": false,
        "nbgrader": {
          "cell_type": "code",
          "checksum": "debb11f6cefc77cd12c4c3efdd7bab20",
          "grade": false,
          "grade_id": "cell-07f0709649b8cd6e",
          "locked": true,
          "schema_version": 3,
          "solution": false
        },
        "gather": {
          "logged": 1639267195581
        }
      }
    },
    {
      "cell_type": "markdown",
      "source": [
        "# 0 Warm-up\n",
        "\n",
        "When testing computer vision algorithms, it's necessary to visualize the results and to evaluate them with your own eyes. To make sure that the image is presented as you would expect, it's important to convert it to integer representation. That's because different packages (`opencv`, `PIL`, `tensorflow`) handle floating-point images differently."
      ],
      "metadata": {
        "deletable": false,
        "editable": false,
        "nbgrader": {
          "cell_type": "markdown",
          "checksum": "6698f34cb01ecd15ed267fb45f87cdb5",
          "grade": false,
          "grade_id": "cell-1b30040462b02673",
          "locked": true,
          "schema_version": 3,
          "solution": false
        }
      }
    },
    {
      "cell_type": "markdown",
      "source": [
        "### 0.1.1 Implement `safe_normalize()`\n",
        "\n",
        "In this exercise, we provide you most of the needed I/O methods. You only need to implement the `safe_normalize()` function, which is given image and bounds (the expected `min` and `max` values), and normalizes it to integers (`np.uint8`) in the range `[0, 255]`.\n",
        "\n",
        "You **may not** assume that the values in `image` are in the expected `bounds`, as it usually happens with generated/interpolated images. You **should** explicitly handle this case, and map out-of-bound values to the nearest value in `bounds`."
      ],
      "metadata": {
        "deletable": false,
        "editable": false,
        "nbgrader": {
          "cell_type": "markdown",
          "checksum": "0ab11d9191ec5ca3ab9ed6438f152b43",
          "grade": false,
          "grade_id": "cell-64770d319efab1ba",
          "locked": true,
          "schema_version": 3,
          "solution": false
        }
      }
    },
    {
      "cell_type": "code",
      "source": [
        "def safe_normalize(image, bounds):\n",
        "    \"\"\"Receive an `image` represented by float numbers, with given range `bounds`, and convert it to `uint8`\n",
        "\n",
        "    Args:\n",
        "        image (np.ndarray): the image\n",
        "        bounds (Tuple[float, float]): tuple of `(minval, maxval)`,  minimum and maximum values of image\n",
        "    \n",
        "    Returns:\n",
        "        np.ndarray: the normalized image, with `dtype=np.uint8`\n",
        "\n",
        "    \"\"\"\n",
        "    # YOUR CODE HERE\n",
        "    image = np.clip(image,bounds[0],bounds[1]) #Clip image bounds - values higher than the bounds will become the bounds \n",
        "    # and practically vanish\n",
        "    image -= bounds[0] #Bring minimum to zero - the image pixels now will be in (0,bounds[1]-bounds[0])\n",
        "    divide_by = bounds[1]-bounds[0]\n",
        "    image /= divide_by #Divide by maximum\n",
        "    image *= 255 #change to 255 high limit\n",
        "    image = np.round(image) # make the values rounded by 0 decimals\n",
        "    image = image.astype('uint8') #Change type\n",
        "    return image "
      ],
      "outputs": [],
      "execution_count": null,
      "metadata": {
        "deletable": false,
        "nbgrader": {
          "cell_type": "code",
          "checksum": "e8016f7e0ab1cf008d4804f8fa952d46",
          "grade": true,
          "grade_id": "cell-8a6e0de6675a2507",
          "locked": false,
          "points": 0,
          "schema_version": 3,
          "solution": true
        },
        "gather": {
          "logged": 1639267948836
        }
      }
    },
    {
      "cell_type": "code",
      "source": [
        "### PROVIDED FUNCTION\n",
        "def imwrite(path, image, bounds=(0, 1), **kwargs):\n",
        "    \"\"\"Normalize `image` and save it to `path`\"\"\"\n",
        "    image = safe_normalize(image, bounds)\n",
        "    return _imwrite(path, image, **kwargs)\n",
        "\n",
        "\n",
        "### PROVIDED FUNCTION\n",
        "def imshow(image, bounds=(0, 1), **kwargs):\n",
        "    \"\"\"Normalize `image` and show it.\"\"\"\n",
        "    image = safe_normalize(image, bounds)\n",
        "    return _imshow(image, **kwargs)\n",
        "\n",
        "\n",
        "### PROVIDED FUNCTION\n",
        "def imshow_tabs(images, tab_names, titles=None, kwargs=None):\n",
        "    \"\"\"Normalize `images`, and show them in tabs with the given tab names\"\"\"\n",
        "    assert len(images) == len(tab_names)\n",
        "    if not isinstance(titles, (list, tuple)):\n",
        "        titles = [titles] * len(images)\n",
        "    assert len(images) == len(titles)\n",
        "    if kwargs is None:\n",
        "        kwargs = {}\n",
        "    n = len(images)\n",
        "    if isinstance(kwargs, dict):\n",
        "        kwargs = [kwargs for _ in range(n)]\n",
        "    outputs = [widgets.Output() for _ in range(n)]\n",
        "    boxes = widgets.Tab(children=outputs)\n",
        "    for i, (output, image, tab_name, title, kw) in enumerate(zip(outputs, images, tab_names, titles, kwargs)):\n",
        "        boxes.set_title(i, tab_name)\n",
        "        with output:\n",
        "            imshow(image, title=title, **kw)\n",
        "    \n",
        "    display(boxes)    \n",
        "\n",
        "### PROVIDED FUNCTION\n",
        "def imshow_hbox(images, titles=None, kwargs=None):\n",
        "    \"\"\"Normalize `images`, and show them side-by-side\"\"\"\n",
        "    if kwargs is None:\n",
        "        kwargs = {}\n",
        "    if not isinstance(titles, (list, tuple)):\n",
        "        titles = [titles] * len(images)\n",
        "    assert len(images) == len(titles)\n",
        "\n",
        "    n = len(images)\n",
        "    if isinstance(kwargs, dict):\n",
        "        kwargs = [kwargs for _ in range(n)]\n",
        "    outputs = [widgets.Output() for _ in range(n)]\n",
        "    boxes = widgets.HBox(children=outputs)\n",
        "    for i, (output, image, title, kw) in enumerate(zip(outputs, images, titles, kwargs)):\n",
        "        with output:\n",
        "            imshow(image, title=title, **kw)\n",
        "    \n",
        "    display(boxes)\n",
        "    \n",
        "### PROVIDED FUNCTION\n",
        "def imshow_vbox(images, titles=None, kwargs=None):\n",
        "    \"\"\"Normalize `images`, and show them side-by-side\"\"\"\n",
        "    if kwargs is None:\n",
        "        kwargs = {}\n",
        "    if not isinstance(titles, (list, tuple)):\n",
        "        titles = [titles] * len(images)\n",
        "    assert len(images) == len(titles)\n",
        "\n",
        "    n = len(images)\n",
        "    if isinstance(kwargs, dict):\n",
        "        kwargs = [kwargs for _ in range(n)]\n",
        "    outputs = [widgets.Output() for _ in range(n)]\n",
        "    boxes = widgets.VBox(children=outputs)\n",
        "    for i, (output, image, title, kw) in enumerate(zip(outputs, images, titles, kwargs)):\n",
        "        with output:\n",
        "            imshow(image, title=title, **kw)\n",
        "    \n",
        "    display(boxes)"
      ],
      "outputs": [],
      "execution_count": null,
      "metadata": {
        "gather": {
          "logged": 1639267951714
        }
      }
    },
    {
      "cell_type": "markdown",
      "source": [
        "# 1 Image Pyramids\n",
        "\n",
        "In this part of the exercise, you will implement basic image pyramid functions, following the paper \"The Laplacian Pyramid as a Compact Image Code\" by Burt and Adelson, 1983. The paper is included in this exercise, and can be found in the `papers/` direcory.\n",
        "\n",
        "All of the tests will be run with the following parameters:"
      ],
      "metadata": {
        "deletable": false,
        "editable": false,
        "nbgrader": {
          "cell_type": "markdown",
          "checksum": "9c88ff854cad681e26281ccfdc537bd6",
          "grade": false,
          "grade_id": "cell-e6608e28f0c5e207",
          "locked": true,
          "schema_version": 3,
          "solution": false
        }
      }
    },
    {
      "cell_type": "code",
      "source": [
        "depth = 5\n",
        "a = 0.375"
      ],
      "outputs": [],
      "execution_count": null,
      "metadata": {
        "gather": {
          "logged": 1639267954901
        }
      }
    },
    {
      "cell_type": "markdown",
      "source": [
        "## 1.1 Gaussian Pyramids [30 Points]"
      ],
      "metadata": {
        "deletable": false,
        "editable": false,
        "nbgrader": {
          "cell_type": "markdown",
          "checksum": "d350b2abcce25dd8071395ad01793a62",
          "grade": false,
          "grade_id": "cell-9dea412a15ab2090",
          "locked": true,
          "schema_version": 3,
          "solution": false
        }
      }
    },
    {
      "cell_type": "markdown",
      "source": [
        "### 1.1.1 Implement `pyramid_kernel()` [5 points]\n",
        "\n",
        "Implement the `pyramid_kernel()` function, which creates the *Generating Kernel* depending on the parameter `a` (see page 533 in the paper)."
      ],
      "metadata": {
        "deletable": false,
        "editable": false,
        "nbgrader": {
          "cell_type": "markdown",
          "checksum": "2537fe5995b24c46c637d93570bf0191",
          "grade": false,
          "grade_id": "cell-d8e4766c226b298c",
          "locked": true,
          "schema_version": 3,
          "solution": false
        }
      }
    },
    {
      "cell_type": "code",
      "source": [
        "def pyramid_kernel(a):\n",
        "    \"\"\"Return the 5-by-5 generating kernel, given parameter `a`\n",
        "    \n",
        "    Args:\n",
        "        a (float): the kernel parameter\n",
        "    \n",
        "    Returns:\n",
        "        np.ndarray: 5-by-5 generating kernel\n",
        "    \"\"\"\n",
        "\n",
        "    # YOUR CODE HERE\n",
        "    w = np.array([0.25 - a/2.0, 0.25, a, 0.25, 0.25 - a/2.0]) #Equal contribution dictates this as the form of w\n",
        "    kernel = np.outer(w, w) # this is the outer product function\n",
        "    # kernel = np.matmul(w.transpose(),w)\n",
        "\n",
        "\n",
        "    return kernel"
      ],
      "outputs": [],
      "execution_count": null,
      "metadata": {
        "deletable": false,
        "nbgrader": {
          "cell_type": "code",
          "checksum": "172fb623835daf72d0766a2679a385c5",
          "grade": false,
          "grade_id": "pyramid_kernel",
          "locked": false,
          "schema_version": 3,
          "solution": true
        },
        "gather": {
          "logged": 1639267957792
        }
      }
    },
    {
      "cell_type": "code",
      "source": [
        "KERNEL_0375 = np.array([[1,  4,  6,  4, 1],\n",
        "                        [4, 16, 24, 16, 4],\n",
        "                        [6, 24, 36, 24, 6],\n",
        "                        [4, 16, 24, 16, 4],\n",
        "                        [1,  4,  6,  4, 1]]) / 256.0\n",
        "\n",
        "np.testing.assert_array_equal(pyramid_kernel(a=0.375), KERNEL_0375)"
      ],
      "outputs": [],
      "execution_count": null,
      "metadata": {
        "deletable": false,
        "editable": false,
        "nbgrader": {
          "cell_type": "code",
          "checksum": "139f1c52422ec7a6d89e8df53d336d3a",
          "grade": true,
          "grade_id": "test_pyramid_kernel",
          "locked": true,
          "points": 5,
          "schema_version": 3,
          "solution": false
        },
        "gather": {
          "logged": 1639267960336
        }
      }
    },
    {
      "cell_type": "markdown",
      "source": [
        "### 1.1.2 Implement `pyramid_reduce()` [10 points]\n",
        "Implement the `pyramid_reduce()` (see *REDUCE*, page 533).\n",
        "\n",
        "You're provided with `conv2d()`, and with the `pyramid_expand()` function (see *EXPAND*, page 534)."
      ],
      "metadata": {
        "deletable": false,
        "editable": false,
        "nbgrader": {
          "cell_type": "markdown",
          "checksum": "4aa498746238291595f453dcbac40687",
          "grade": false,
          "grade_id": "cell-16318f71f261fe88",
          "locked": true,
          "schema_version": 3,
          "solution": false
        }
      }
    },
    {
      "cell_type": "code",
      "source": [
        "### PROVIDED FUNCTION\n",
        "def conv2d(image, kernel):\n",
        "    \"\"\"Convolve image with 2D kernel\n",
        "    \n",
        "    Args:\n",
        "        image (np.ndarray): base image\n",
        "        kernel (np.ndarray): kernel to convolve with `image`\n",
        "    \n",
        "    Returns:\n",
        "        np.ndarray: `image` convolved with `kernel`\n",
        "    \"\"\"\n",
        "\n",
        "    if image.ndim == 3 and kernel.ndim == 2:\n",
        "        kernel = np.expand_dims(kernel, -1)\n",
        "    \n",
        "    return convolve(image, kernel, mode='mirror')"
      ],
      "outputs": [],
      "execution_count": null,
      "metadata": {
        "deletable": false,
        "editable": false,
        "nbgrader": {
          "cell_type": "code",
          "checksum": "8cd9fc71ee3ca312e88b6939cc91efd5",
          "grade": false,
          "grade_id": "cell-d2c3d8c469eead13",
          "locked": true,
          "schema_version": 3,
          "solution": false
        },
        "gather": {
          "logged": 1639267964861
        }
      }
    },
    {
      "cell_type": "code",
      "source": [
        "def pyramid_reduce(image, kernel):\n",
        "    \"\"\"Reduce an image given a kernel\n",
        "    \n",
        "    See:\n",
        "        \"The Laplacian Pyramid as a Compact Image Code\" by Burt & Adelson (1983)\n",
        "    \n",
        "    Args:\n",
        "        image (np.ndarray): image to reduce, of size (2*h, 2*w)\n",
        "        kernel (np.ndarray): kernel to use for the reduction (usually 5x5)\n",
        "    \n",
        "    Returns:\n",
        "        np.ndarray: reduced image, of size (h, w)\n",
        "    \"\"\"\n",
        "    # YOUR CODE HERE\n",
        "    # first we will need to convolve the image with the kernel and than to take only 2 \n",
        "    convedIm = conv2d(image,kernel) #Convolution with the kernel in order to blur the image\n",
        "    return convedIm[::2,::2] #downsampling by a factor of 2"
      ],
      "outputs": [],
      "execution_count": null,
      "metadata": {
        "deletable": false,
        "nbgrader": {
          "cell_type": "code",
          "checksum": "18dea4ac748d8eb43933f4bbefb0782b",
          "grade": false,
          "grade_id": "pyramid_reduce",
          "locked": false,
          "schema_version": 3,
          "solution": true
        },
        "gather": {
          "logged": 1639267967407
        }
      }
    },
    {
      "cell_type": "code",
      "source": [],
      "outputs": [],
      "execution_count": null,
      "metadata": {
        "jupyter": {
          "source_hidden": false,
          "outputs_hidden": false
        },
        "nteract": {
          "transient": {
            "deleting": false
          }
        }
      }
    },
    {
      "cell_type": "code",
      "source": [
        "### PROVIDED FUNCTION\n",
        "def pyramid_expand(image, kernel, out_size=None):\n",
        "    \"\"\"Expand an image given a kernel\n",
        "        \n",
        "    Args:\n",
        "        image (np.ndarray): image to expand, of size (h, w)\n",
        "        kernel (np.ndarray): kernel to use for the expansion (usually 5x5)\n",
        "        out_size (Tuple[int, int], optional): the expected shape of the returned image\n",
        "        \n",
        "    Returns:\n",
        "        np.ndarray: expanded image, of size (2*h, 2*w)\n",
        "    \"\"\"\n",
        "    h, w, *c = image.shape\n",
        "    outh, outw = (2 * h, 2 * w) if out_size is None else out_size\n",
        "    assert abs(outh - 2 * h) <= 1 and abs(outw - 2 * w) <= 1, \"`out_size` should be close to `(2*h, 2*w)`\"\n",
        "    new_image = np.zeros((outh, outw, *c))    \n",
        "    new_image[::2, ::2, ...] = image\n",
        "    return conv2d(new_image, 4 * kernel)"
      ],
      "outputs": [],
      "execution_count": null,
      "metadata": {
        "deletable": false,
        "editable": false,
        "nbgrader": {
          "cell_type": "code",
          "checksum": "f4c7ec1c6714def2263fbed43c93d9f0",
          "grade": false,
          "grade_id": "pyramid_expand",
          "locked": true,
          "schema_version": 3,
          "solution": false
        },
        "gather": {
          "logged": 1639267970177
        }
      }
    },
    {
      "cell_type": "code",
      "source": [
        "### THIS CELL CONTAINS HIDDEN TESTS"
      ],
      "outputs": [],
      "execution_count": null,
      "metadata": {
        "deletable": false,
        "editable": false,
        "nbgrader": {
          "cell_type": "code",
          "checksum": "6756c2e249c471a3cfb453f2d61cd653",
          "grade": true,
          "grade_id": "test_pyramid_reduce",
          "locked": true,
          "points": 10,
          "schema_version": 3,
          "solution": false
        },
        "gather": {
          "logged": 1639262958456
        }
      }
    },
    {
      "cell_type": "markdown",
      "source": [
        "### 1.1.3 Implement `gaussian_reduce()` [10 points]\n",
        "\n",
        "Implement `gaussian_reduce()`, using your previously implemented methods."
      ],
      "metadata": {
        "deletable": false,
        "editable": false,
        "nbgrader": {
          "cell_type": "markdown",
          "checksum": "e47328efebb8179e58c8a0b9e03cf5b6",
          "grade": false,
          "grade_id": "cell-2c30c3708112aa09",
          "locked": true,
          "schema_version": 3,
          "solution": false
        }
      }
    },
    {
      "cell_type": "code",
      "source": [
        "def gaussian_reduce(image, kernel, depth):\n",
        "    \"\"\"Generate a Gaussian Pyramid from `image`, using `kernel` for reduction\n",
        "    \n",
        "    The pyramid includes the original image (level 0), followed by `depth` reductions\n",
        "    \n",
        "    This function uses `pyramid_reduce` as it's main act\n",
        "    \n",
        "    Args:\n",
        "        image (np.ndarray): image to reduce\n",
        "        kernel (np.ndarray): kernel to use for the reduction (usually 5x5)\n",
        "        depth (int): how many reductions to apply\n",
        "    \n",
        "    Returns:\n",
        "        List[np.ndarray]: List of `depth + 1` pyramid levels, where the first level is the original image\n",
        "    \"\"\"\n",
        "    # YOUR CODE HERE\n",
        "    to_return = [] #reduce is a list which contains the levels\n",
        "    temp_layer = image # the fitst layer is the same as the original image \n",
        "    for i in range(depth+1):\n",
        "        to_return.append(temp_layer) #Append the next level of the pyramid\n",
        "        temp_layer = pyramid_reduce(temp_layer,kernel) # go ahead by one layer\n",
        "    return to_return"
      ],
      "outputs": [],
      "execution_count": null,
      "metadata": {
        "deletable": false,
        "nbgrader": {
          "cell_type": "code",
          "checksum": "6e89c9ee25f6c8dc424e494259007709",
          "grade": true,
          "grade_id": "gaussian_reduce",
          "locked": false,
          "points": 10,
          "schema_version": 3,
          "solution": true
        },
        "gather": {
          "logged": 1639267973416
        }
      }
    },
    {
      "cell_type": "code",
      "source": [
        "GaussianPyramidExample = namedtuple('GaussianPyramidExample', 'name path')\n",
        "test_examples = [\n",
        "    GaussianPyramidExample('Weizmann', 'data/pyramids/weizmann.png'),\n",
        "    GaussianPyramidExample('Lenna', 'data/pyramids/lenna.png'),\n",
        "    GaussianPyramidExample('Einstein', 'data/pyramids/einstein.png'),\n",
        "]\n",
        "examples_outputs = widgets.Accordion(children=[widgets.Output() for _ in range(len(test_examples))])\n",
        "\n",
        "kernel = pyramid_kernel(a)\n",
        "for i, example in enumerate(test_examples):\n",
        "    # set example name\n",
        "    examples_outputs.set_title(i, example.name)\n",
        "    \n",
        "    # plot inside example's area\n",
        "    with examples_outputs.children[i]:\n",
        "        im = imread(example.path)\n",
        "        pyramid = gaussian_reduce(im, kernel, depth=depth)\n",
        "        titles = ['Level %d' % i for i in range(len(pyramid))]\n",
        "        imshow_vbox(pyramid, titles=titles)\n",
        "        \n",
        "display(examples_outputs)"
      ],
      "outputs": [],
      "execution_count": null,
      "metadata": {
        "deletable": false,
        "editable": false,
        "nbgrader": {
          "cell_type": "code",
          "checksum": "297c0aaa43177ea33080196292a3d867",
          "grade": true,
          "grade_id": "test_gaussian_reduce",
          "locked": true,
          "points": 0,
          "schema_version": 3,
          "solution": false
        },
        "gather": {
          "logged": 1639267978329
        }
      }
    },
    {
      "cell_type": "markdown",
      "source": [
        "### 1.1.4 Theoretical Question [5 points]\n",
        "\n",
        "What is the purpose of the Gaussian filter in the pyramid construction? What would happen if only down-sampling was used?"
      ],
      "metadata": {
        "deletable": false,
        "editable": false,
        "nbgrader": {
          "cell_type": "markdown",
          "checksum": "2aed7516734ae3a06d18526b050cf26f",
          "grade": false,
          "grade_id": "cell-f43eb87648350023",
          "locked": true,
          "schema_version": 3,
          "solution": false
        }
      }
    },
    {
      "cell_type": "markdown",
      "source": [
        "If we were to simply down sample, we will lose a lot of data in the image. For instance, if the \"image\" is 25 1D (I know it's not so realistic but this is for the concept) then after a few iterations - first the number indexed [3,8,13,18,23] will stay, and than only the number of the 13th place will stay - a loss of most of the original information"
      ],
      "metadata": {
        "deletable": false,
        "nbgrader": {
          "cell_type": "markdown",
          "checksum": "7c96be37d90f818c40496e64e6ec50ff",
          "grade": true,
          "grade_id": "cell-f77fbd610d1c9538",
          "locked": false,
          "points": 5,
          "schema_version": 3,
          "solution": true
        }
      }
    },
    {
      "cell_type": "markdown",
      "source": [
        "## 1.2 Laplacian Pyramids [20 Points]\n",
        "\n"
      ],
      "metadata": {
        "deletable": false,
        "editable": false,
        "nbgrader": {
          "cell_type": "markdown",
          "checksum": "f94cadb333c4f983f13fa9da29e22c27",
          "grade": false,
          "grade_id": "cell-dfa913abeb17ad25",
          "locked": true,
          "schema_version": 3,
          "solution": false
        }
      }
    },
    {
      "cell_type": "markdown",
      "source": [
        "### 1.2.1 Implement `laplacian_reduce()` [10 points]\n",
        "\n",
        "Implement `laplacian_reduce()`, using your previously implemented methods, and the provided `pyramid_expand()` method."
      ],
      "metadata": {
        "deletable": false,
        "editable": false,
        "nbgrader": {
          "cell_type": "markdown",
          "checksum": "f25d29675617ae78f57e32efc1fb170b",
          "grade": false,
          "grade_id": "cell-7cc837c94a9ce2cf",
          "locked": true,
          "schema_version": 3,
          "solution": false
        }
      }
    },
    {
      "cell_type": "code",
      "source": [
        "def laplacian_reduce(image, kernel, depth):\n",
        "    \"\"\"Generate a Laplacian Pyramid from `image`, using `kernel` for reduction\n",
        "    \n",
        "    Args:\n",
        "        image (np.ndarray): image to reduce\n",
        "        kernel (np.ndarray): kernel to use for the reduction (usually 5x5)\n",
        "        depth (int): how many reductions to apply\n",
        "    \n",
        "    Returns:\n",
        "        List[np.ndarray]: List of `depth + 1` pyramid levels\n",
        "    \"\"\"\n",
        "    \n",
        "    gaussian_reduced = gaussian_reduce(image,kernel,depth) # first do a gaussian reduce\n",
        "    to_return = []\n",
        "    for i,image in enumerate(gaussian_reduced[:-1]):\n",
        "        # the last element is append by itself - without any change\n",
        "        # the other layers are computed by latters layers\n",
        "        expend = pyramid_expand(gaussian_reduced[i+1],kernel,image.shape[:2]) #The expansion of the next level image\n",
        "        # the out size is the image shape trimmed\n",
        "        # Layer1 = g1 - expend(g2) where G1 - gauss1, G2 gauss 2\n",
        "        to_return.append(image - expend) #Append\n",
        "    to_return.append(gaussian_reduced[-1]) #Append last level by itself\n",
        "    # the last element is in -1\n",
        "    return to_return"
      ],
      "outputs": [],
      "execution_count": null,
      "metadata": {
        "deletable": false,
        "nbgrader": {
          "cell_type": "code",
          "checksum": "62054dd69ac75cc9705c78647b5456d7",
          "grade": false,
          "grade_id": "laplacian_reduce",
          "locked": false,
          "schema_version": 3,
          "solution": true
        },
        "gather": {
          "logged": 1639267986185
        }
      }
    },
    {
      "cell_type": "markdown",
      "source": [],
      "metadata": {
        "nteract": {
          "transient": {
            "deleting": false
          }
        }
      }
    },
    {
      "cell_type": "code",
      "source": [
        "LaplacianPyramidExample = namedtuple('LaplacianPyramidExample', 'name path')\n",
        "test_examples = [\n",
        "    LaplacianPyramidExample('Weizmann', 'data/pyramids/weizmann.png'),\n",
        "    LaplacianPyramidExample('Lenna', 'data/pyramids/lenna.png'),\n",
        "    LaplacianPyramidExample('Einstein', 'data/pyramids/einstein.png'),\n",
        "]\n",
        "examples_outputs = widgets.Accordion(children=[widgets.Output() for _ in range(len(test_examples))])\n",
        "\n",
        "kernel = pyramid_kernel(a)\n",
        "for i, example in enumerate(test_examples):\n",
        "    # set example name\n",
        "    examples_outputs.set_title(i, example.name)\n",
        "    \n",
        "    # plot inside example's area\n",
        "    with examples_outputs.children[i]:\n",
        "        im = imread(example.path)\n",
        "        pyramid = laplacian_reduce(im, kernel, depth=depth)\n",
        "        titles = ['Level %d' % i for i in range(len(pyramid))]\n",
        "        kwargs = ([{'bounds': (-1, 1)} for _ in range(len(pyramid) - 1)] +  # bounds of laplacian layer\n",
        "                  [{'bounds': (0, 1)}])                                     # bounds of gaussian layer\n",
        "        \n",
        "        imshow_vbox(pyramid, titles=titles, kwargs=kwargs)\n",
        "        \n",
        "display(examples_outputs)"
      ],
      "outputs": [],
      "execution_count": null,
      "metadata": {
        "deletable": false,
        "editable": false,
        "nbgrader": {
          "cell_type": "code",
          "checksum": "2912d4e43b8abaa316de63654db450e0",
          "grade": true,
          "grade_id": "test_laplacian_reduce",
          "locked": true,
          "points": 10,
          "schema_version": 3,
          "solution": false
        },
        "gather": {
          "logged": 1639267990479
        }
      }
    },
    {
      "cell_type": "markdown",
      "source": [
        "### 1.2.2 Theoretical Question [3 points]\n",
        "\n",
        "What are the bounds for pixels at each level in the Laplaican pyramid? What is the meaning of bright/dark pixels that we see?"
      ],
      "metadata": {
        "deletable": false,
        "editable": false,
        "nbgrader": {
          "cell_type": "markdown",
          "checksum": "e6edeeb4ea8a6b5922d39773f1175533",
          "grade": false,
          "grade_id": "cell-c4bcf90195bff95b",
          "locked": true,
          "schema_version": 3,
          "solution": false
        }
      }
    },
    {
      "cell_type": "markdown",
      "source": [
        "As it shown in \"Laplasian Pyramids as a compact image code\" the values are located around zero and they should be \r\n",
        "\r\n",
        "$values\\in(-1,1)$\r\n",
        "\r\n",
        "As further the pixels from grey (i.e extreme cases like black and white) the reconstruction of the pyramid is not working so well"
      ],
      "metadata": {
        "deletable": false,
        "nbgrader": {
          "cell_type": "markdown",
          "checksum": "94e684b5402a740470ed2037a8e4d385",
          "grade": true,
          "grade_id": "cell-ee2215cc630599a1",
          "locked": false,
          "points": 3,
          "schema_version": 3,
          "solution": true
        }
      }
    },
    {
      "cell_type": "markdown",
      "source": [
        "### 1.2.3 Implement `laplacian_expand()` [7 points]\n",
        "\n",
        "Implement `laplacian_expand()` that reconstructs an image from its Laplacian Pyramid."
      ],
      "metadata": {
        "deletable": false,
        "editable": false,
        "nbgrader": {
          "cell_type": "markdown",
          "checksum": "c46461ebade37fb169d750767f6b75b4",
          "grade": false,
          "grade_id": "cell-73e1d9809b6ca42b",
          "locked": true,
          "schema_version": 3,
          "solution": false
        }
      }
    },
    {
      "cell_type": "code",
      "source": [
        "def laplacian_expand(pyramid, kernel):\n",
        "    \"\"\"Reconstruct an image from a Laplacian Pyramid\n",
        "    \n",
        "    Args:\n",
        "        pyramid (List[np.ndarray]): list of `depth + 1` pyramid levels\n",
        "        kernel (np.ndarray): kernel that was used to create `pyramid`\n",
        "    \n",
        "    Returns:\n",
        "        np.ndarray: reconstructed image\n",
        "    \"\"\"\n",
        "    # YOUR CODE HERE\n",
        "    while len(pyramid) > 1:\n",
        "        pyramidion = pyramid.pop() #the last layer in the pyramid - the pyramidion\n",
        "        expended = pyramid_expand(pyramidion,kernel,pyramid[-1].shape[:2]) #Reconstruct the last layer - from the pyramidion the kernel\n",
        "        # the requested shape is the shape of the last layer now after the pop\n",
        "        pyramid[-1] += expended #Add it to the pyramid back\n",
        "    print(len(pyramid))\n",
        "    return pyramid[0]"
      ],
      "outputs": [],
      "execution_count": null,
      "metadata": {
        "deletable": false,
        "nbgrader": {
          "cell_type": "code",
          "checksum": "56290c20e414d7ce1e54305d5fedea94",
          "grade": true,
          "grade_id": "laplacian_expand",
          "locked": false,
          "points": 0,
          "schema_version": 3,
          "solution": true
        },
        "gather": {
          "logged": 1639268000810
        }
      }
    },
    {
      "cell_type": "markdown",
      "source": [
        "### 1.2.4 Test your methods: `laplacian_reduce()`, `laplacian_expand()`\n",
        "\n",
        "Run the following tests and make sure that the reconstruced image is identitcal to the original image."
      ],
      "metadata": {
        "deletable": false,
        "editable": false,
        "nbgrader": {
          "cell_type": "markdown",
          "checksum": "f48ebacac7a17a9a8a34f021cc86540c",
          "grade": false,
          "grade_id": "cell-182ec8c7348f2e50",
          "locked": true,
          "schema_version": 3,
          "solution": false
        }
      }
    },
    {
      "cell_type": "code",
      "source": [
        "LaplacianExpandExample = namedtuple('LaplacianExpandExample', 'name path')\n",
        "test_examples = [\n",
        "    LaplacianExpandExample('Weizmann', 'data/pyramids/weizmann.png'),\n",
        "    LaplacianExpandExample('Lenna', 'data/pyramids/lenna.png'),\n",
        "    LaplacianExpandExample('Einstein', 'data/pyramids/einstein.png'),\n",
        "]\n",
        "examples_outputs = widgets.Accordion(children=[widgets.Output() for _ in range(len(test_examples))])\n",
        "\n",
        "kernel = pyramid_kernel(a)\n",
        "for i, example in enumerate(test_examples):\n",
        "    # set example name\n",
        "    examples_outputs.set_title(i, example.name)\n",
        "    \n",
        "    # plot inside example's area\n",
        "    with examples_outputs.children[i]:\n",
        "        image = imread(example.path)\n",
        "        pyramid = laplacian_reduce(image, kernel, depth=depth)\n",
        "        expanded = laplacian_expand(pyramid, kernel)\n",
        "        imshow_tabs([expanded, image], tab_names=['Reconstructed', 'Original'])\n",
        "        \n",
        "\n",
        "display(examples_outputs)"
      ],
      "outputs": [],
      "execution_count": null,
      "metadata": {
        "deletable": false,
        "editable": false,
        "nbgrader": {
          "cell_type": "code",
          "checksum": "6ef9bf73e0a303d848ed7e2604d23e9e",
          "grade": true,
          "grade_id": "test_laplacian_expand",
          "locked": true,
          "points": 7,
          "schema_version": 3,
          "solution": false
        },
        "gather": {
          "logged": 1639268005751
        }
      }
    },
    {
      "cell_type": "markdown",
      "source": [
        "# 2 Applications [50 Points]"
      ],
      "metadata": {
        "deletable": false,
        "editable": false,
        "nbgrader": {
          "cell_type": "markdown",
          "checksum": "d70d419b62294fe65be2226d7e4cc02f",
          "grade": false,
          "grade_id": "cell-784651f428fded57",
          "locked": true,
          "schema_version": 3,
          "solution": false
        }
      }
    },
    {
      "cell_type": "markdown",
      "source": [
        "## 2.1 Image Focusing [25 Points]\n",
        "In this part you will experiment with image focusing using pyramids. The goal is to take two pictures that were shot with different focal planes and use them to generate a multi-focus image.\n",
        "Open the article \"Pyramid Methods in Image Processing\" by Burt, Adelson et al. (1984) which is included in this exercise (under `papers/`), and read about image focusing (page 38, blue box). Please note that some errata were corrected for you (marked in red).\n",
        "\n",
        "**Note:** The article addresses gray level images. When focusing RGB images, the correct way is to determine the maximum by the intensity image i.e. use `rgb2grey()` of the image (The final result should be in RGB)."
      ],
      "metadata": {
        "deletable": false,
        "editable": false,
        "nbgrader": {
          "cell_type": "markdown",
          "checksum": "f9dc1c1bd9be40e9e4ef4178a510cebc",
          "grade": false,
          "grade_id": "cell-8b136e9d153a09bf",
          "locked": true,
          "schema_version": 3,
          "solution": false
        }
      }
    },
    {
      "cell_type": "markdown",
      "source": [
        "### 2.1.1 Theoretical Question [10 points]\n",
        "What is the main idea that underlies this method of image focusing? Why should we expect it to work? A brief and concise explanation should suffice."
      ],
      "metadata": {
        "deletable": false,
        "editable": false,
        "nbgrader": {
          "cell_type": "markdown",
          "checksum": "6519e414a37f561909875446ca9979ca",
          "grade": false,
          "grade_id": "cell-221bc3d6e977269d",
          "locked": true,
          "schema_version": 3,
          "solution": false
        }
      }
    },
    {
      "cell_type": "markdown",
      "source": [
        "No focus is \"no high frequencies\" = the frequencies are moderated.\r\n",
        "\r\n",
        "we can combine two photos by taking the high (absolute) values of the laplacian pyramid, because the laplacian pyramid reserve well high frequencies and they are \"continue\" with us to the laplasian pyramid"
      ],
      "metadata": {
        "deletable": false,
        "nbgrader": {
          "cell_type": "markdown",
          "checksum": "d260932f2e08e5e9adc7e2afcaeff7dd",
          "grade": true,
          "grade_id": "cell-9bca1e8517626d54",
          "locked": false,
          "points": 10,
          "schema_version": 3,
          "solution": true
        }
      }
    },
    {
      "cell_type": "markdown",
      "source": [
        "### 2.1.2 Implement `image_focus()` [15 points]\n",
        "\n",
        "Implement `image_focus()`  that receives two unfocused images and combines them into a single focused image. The result should match the focused parts of the given images. You're provided with tabs that can help you flicker between focused/unfocused images to test your result.\n",
        "\n",
        "**Note:** The correct way to combine the coarsest level (the \"gaussian\" level) of the two pyramids is to *average* them, and not to handle them as the finer (\"laplacian\") levels."
      ],
      "metadata": {
        "deletable": false,
        "editable": false,
        "nbgrader": {
          "cell_type": "markdown",
          "checksum": "2873d6a1f3b1230604cf49798468245a",
          "grade": false,
          "grade_id": "cell-cd3be4c29625405d",
          "locked": true,
          "schema_version": 3,
          "solution": false
        }
      }
    },
    {
      "cell_type": "code",
      "source": [
        "def image_focus(im1, im2, depth, a):\n",
        "    \"\"\"Generate a focused image from two unfocused images\n",
        "    \n",
        "    Argls:\n",
        "        im1 (np.ndarray): unfocused image #1\n",
        "        im2 (np.ndarray): unfocused image #2\n",
        "        depth (int): depth of pyramids to use\n",
        "        a (float): kernel parameter\n",
        "    \n",
        "    Returns:\n",
        "        np.ndarray: a focused image\n",
        "    \"\"\"\n",
        "    # YOUR CODE HERE\n",
        "    \n",
        "    \n",
        "    kernel = pyramid_kernel(a) #Produce kernel with parameter a - []\n",
        "    laplas1 = laplacian_reduce(im1,kernel,depth) #Laplacian on 1st img\n",
        "    laplas2 = laplacian_reduce(im2,kernel,depth) #Laplacian on 2nd image\n",
        "    new_laplas_combined = [] #The combined laplacian pyramid we will create\n",
        "    for i in range(laplas1.__len__()):\n",
        "        greyed_1 = rgb2grey(laplas1[i]) # grey the image out\n",
        "        greyed_2 = rgb2grey(laplas2[i])\n",
        "        # as explained in the blue box , the choice depends on the question if\n",
        "        # ** on a greyed out image **\n",
        "        # |LAᵢ (i,j)| > |LBᵢ (i,j)|\n",
        "        # where\n",
        "        # -  LAᵢ - is the i layer in the first laplasian\n",
        "        # -  LBᵢ - is the i layer in the second laplasian pyramid\n",
        "        # located in i,j pixel\n",
        "        # the decision is made for each pixel \n",
        "        # we will use the choice function for that\n",
        "        term  = np.absolute(greyed_1) > np.absolute(greyed_2)\n",
        "        # now, in order to work on the original matrix, we should have the term (which is now greyed out)\n",
        "        # to work on any color channel - i.e, become 3 dimantional\n",
        "        # we will make 3 copies of choice in each dimation\n",
        "        term = np.repeat(term[:, :, np.newaxis], 3, axis=2)\n",
        "        new_laplas_combined.append(np.where(term,laplas1[i],laplas2[i]))\n",
        "    # now we are just left to expend the laplas pyramid to construct the original image\n",
        "    return laplacian_expand(pyramid=new_laplas_combined,kernel=kernel)\n",
        "\n",
        "    # for pyr1,pyr2 in zip(lap1,lap2): #Run over depths of both pyramids\n",
        "    #     grey1 = rgb2grey(pyr1) #Greyscale of first image as said in the hint above\n",
        "    #     grey2 = rgb2grey(pyr2) #Greyscale of second image\n",
        "    # #     choice = np.absolute(grey1) > np.absolute(grey2) #Matrix indicating where to take from first image\n",
        "    # #     choice = np.repeat(choice[:, :, np.newaxis], 3, axis=2) #Repeating matrix to the three color channels\n",
        "    #     combinedLap.append(np.where(choice,pyr1,pyr2)) #Choosing appropriate image\n",
        "    \n",
        "    # return laplacian_expand(combinedLap,kernel) #Expanding by the constructed pyramid\n",
        "    \n",
        "    \n",
        "     \n",
        "    "
      ],
      "outputs": [],
      "execution_count": null,
      "metadata": {
        "deletable": false,
        "nbgrader": {
          "cell_type": "code",
          "checksum": "f97633d0185479b92acc208e28151cb4",
          "grade": false,
          "grade_id": "image_focus",
          "locked": false,
          "schema_version": 3,
          "solution": true
        },
        "gather": {
          "logged": 1639268014869
        }
      }
    },
    {
      "cell_type": "markdown",
      "source": [
        "### 2.1.3 Test your method: `image_focus()`\n",
        "\n",
        "Run the following tests and make sure that `image_focus()` works well."
      ],
      "metadata": {
        "deletable": false,
        "editable": false,
        "nbgrader": {
          "cell_type": "markdown",
          "checksum": "c034650d0a655b9ba3aeed643f4d0429",
          "grade": false,
          "grade_id": "cell-46e99f7e43663ea0",
          "locked": true,
          "schema_version": 3,
          "solution": false
        }
      }
    },
    {
      "cell_type": "code",
      "source": [
        "FocusExample = namedtuple('FocusExample', 'name path1 path2')\n",
        "test_examples = [\n",
        "    FocusExample('Leopard', 'data/focus/leopard1.bmp', 'data/focus/leopard2.bmp'),\n",
        "    FocusExample('Pumpkin', 'data/focus/pumpkin1.png', 'data/focus/pumpkin2.png'),\n",
        "    FocusExample('Tree', 'data/focus/tree1.png', 'data/focus/tree2.png'),\n",
        "    FocusExample('Einstein', 'data/focus/einstein1.png', 'data/focus/einstein2.png'),\n",
        "    FocusExample('Mountain', 'data/focus/mountain1.png', 'data/focus/mountain2.png'),\n",
        "]\n",
        "examples_outputs = widgets.Accordion(children=[widgets.Output() for _ in range(len(test_examples))])\n",
        "\n",
        "kernel = pyramid_kernel(a)\n",
        "for i, example in enumerate(test_examples):\n",
        "    # set example name\n",
        "    examples_outputs.set_title(i, example.name)\n",
        "    \n",
        "    # plot inside example's area\n",
        "    with examples_outputs.children[i]:\n",
        "        im1 = imread(example.path1)\n",
        "        im2 = imread(example.path2)\n",
        "        focused = image_focus(im1, im2, depth=depth, a=a)\n",
        "        images = [np.vstack([img, (focused - img) / 2 + 0.5]) for img in [focused, im1, im2]]\n",
        "        tab_names = ['Focused', 'Image 1', 'Image 2']\n",
        "        imshow_tabs(images, tab_names, titles='`image` (top), `focused - image` (bottom)')\n",
        "\n",
        "display(examples_outputs)"
      ],
      "outputs": [],
      "execution_count": null,
      "metadata": {
        "deletable": false,
        "editable": false,
        "nbgrader": {
          "cell_type": "code",
          "checksum": "0aa9d6e7eea02e30742f839b5c57bf27",
          "grade": true,
          "grade_id": "test_image_focus",
          "locked": true,
          "points": 15,
          "schema_version": 3,
          "solution": false
        },
        "gather": {
          "logged": 1639268027368
        }
      }
    },
    {
      "cell_type": "markdown",
      "source": [
        "### 2.1.4 (Bonus) Implement `image_multi_focus()` [+10 points]\n",
        "\n",
        "Generalize the algorithm for image focusing, and implement `image_multi_focus()` that takes *multiple* (more than 2) unfocused images, and combines them into a single focused image."
      ],
      "metadata": {
        "deletable": false,
        "editable": false,
        "nbgrader": {
          "cell_type": "markdown",
          "checksum": "9ed9852bb578b50d984842a0b4764789",
          "grade": false,
          "grade_id": "cell-ffe3219710a2a9d8",
          "locked": true,
          "schema_version": 3,
          "solution": false
        }
      }
    },
    {
      "cell_type": "code",
      "source": [
        "def image_multi_focus(images, depth, a):\n",
        "    \"\"\"Generate a focused image from multiple unfocused images\n",
        "    \n",
        "    Args:\n",
        "        images (List[np.ndarray]): list of unfocused images\n",
        "        depth (int): depth of pyramids to use\n",
        "        a (float): kernel parameter\n",
        "    \n",
        "    Returns:\n",
        "        np.ndarray: a focused image\n",
        "    \"\"\"\n",
        "    # YOUR CODE HERE"
      ],
      "outputs": [],
      "execution_count": null,
      "metadata": {
        "deletable": false,
        "nbgrader": {
          "cell_type": "code",
          "checksum": "a680ad6d818fe2ebadb60d14b2046644",
          "grade": false,
          "grade_id": "image_focus_multi",
          "locked": false,
          "schema_version": 3,
          "solution": true
        },
        "gather": {
          "logged": 1639265411336
        }
      }
    },
    {
      "cell_type": "markdown",
      "source": [
        "### 2.1.5 (Bonus) Test your method: `image_multi_focus()`\n",
        "\n",
        "Run the following tests and make sure that `image_multi_focus()` works well."
      ],
      "metadata": {
        "deletable": false,
        "editable": false,
        "nbgrader": {
          "cell_type": "markdown",
          "checksum": "b428823d4fb4329dabffa443e17a41e0",
          "grade": false,
          "grade_id": "cell-42d784f2e7018a50",
          "locked": true,
          "schema_version": 3,
          "solution": false
        }
      }
    },
    {
      "cell_type": "code",
      "source": [
        "MultiFocusExample = namedtuple('MultiFocusExample', 'name paths')\n",
        "test_examples = [\n",
        "    MultiFocusExample('Einsten', ['data/multi_focus/einstein%d.png' % (i + 1) for i in range(4)]),\n",
        "    MultiFocusExample('Tree', ['data/multi_focus/tree%d.png' % (i + 1) for i in range(4)]),\n",
        "    MultiFocusExample('Mountain', ['data/multi_focus/mountain%d.png' % (i + 1) for i in range(4)]),\n",
        "]\n",
        "examples_outputs = widgets.Accordion(children=[widgets.Output() for _ in range(len(test_examples))])\n",
        "\n",
        "try:\n",
        "    kernel = pyramid_kernel(a)\n",
        "    for i, example in enumerate(test_examples):\n",
        "        # set example name\n",
        "        examples_outputs.set_title(i, example.name)\n",
        "\n",
        "        # plot inside example's area\n",
        "        with examples_outputs.children[i]:\n",
        "            imgs = [imread(path) for path in example.paths]\n",
        "            focused = image_multi_focus(imgs, depth=depth, a=a)\n",
        "            images = [np.vstack([img, focused - img + 0.5]) for img in [focused] + imgs]\n",
        "            tab_names = ['Focused'] + ['Image %d' % (i + 1) for i in range(len(imgs))]\n",
        "            imshow_tabs(images, tab_names, titles='`image` (top), `focused - image` (bottom)')\n",
        "\n",
        "    display(examples_outputs)\n",
        "\n",
        "except NotImplementedError:\n",
        "    print(\"You should solve the bonus in order to test it.\")"
      ],
      "outputs": [],
      "execution_count": null,
      "metadata": {
        "deletable": false,
        "editable": false,
        "nbgrader": {
          "cell_type": "code",
          "checksum": "100e948647d547b26f1f7ff302757781",
          "grade": true,
          "grade_id": "test_image_focus_multi",
          "locked": true,
          "points": 0,
          "schema_version": 3,
          "solution": false
        }
      }
    },
    {
      "cell_type": "markdown",
      "source": [
        "## 2.2 Image Mosaicing [25 points]\n",
        "In this part you will get to know a surprising application of image pyramids. It turns out that we can stitch images together in a visually-appealing way if we make the transition separately at each level of the Laplacian pyramid.\n",
        "First, read about image mosaicing in pages 39-40 (green boxes) on the article \"Pyramid Methods in Image Processing\" by Burt, Adelson et al. (1984)."
      ],
      "metadata": {
        "deletable": false,
        "editable": false,
        "nbgrader": {
          "cell_type": "markdown",
          "checksum": "3989496fc12ef39400a2bc5b24ff3a92",
          "grade": false,
          "grade_id": "cell-af3248d1ec94ef5f",
          "locked": true,
          "schema_version": 3,
          "solution": false
        }
      }
    },
    {
      "cell_type": "markdown",
      "source": [
        "### 2.2.1 Theoretical Question [10 points]\n",
        "What is the main idea of using the Laplacian pyramid for performing image mosaicing? Why should this work better than using a simple smooth transition of the form:\n",
        "\\begin{equation*}\n",
        "I_{out} = \\left( 1-m \\right) \\cdot I_1 + m \\cdot I_2\n",
        "\\end{equation*}\n",
        "\n",
        "where $𝑚$ is a 2D mask with values between 0 and 1 (generated by smoothing a binary mask)?"
      ],
      "metadata": {
        "deletable": false,
        "editable": false,
        "nbgrader": {
          "cell_type": "markdown",
          "checksum": "d8e918dc8b9594e6a0a9969578592683",
          "grade": false,
          "grade_id": "cell-192ed382a733a57b",
          "locked": true,
          "schema_version": 3,
          "solution": false
        }
      }
    },
    {
      "cell_type": "markdown",
      "source": [
        "The width through which the mask is smoothed is an external parameter which is constant. In this approach it mixes through high and low frequencies in the same manner, where we would prefer for finer transitions for higher frequencies. This is what the approach through the laplacian image gives us - each frequency is mixed with a matching width."
      ],
      "metadata": {
        "deletable": false,
        "nbgrader": {
          "cell_type": "markdown",
          "checksum": "8dd97ed0fe2d8121a554ac628e3e102f",
          "grade": true,
          "grade_id": "cell-c614e51103b21052",
          "locked": false,
          "points": 10,
          "schema_version": 3,
          "solution": true
        }
      }
    },
    {
      "cell_type": "markdown",
      "source": [
        "### 2.2.2 Implement `image_mosaic()` [15 points]\n",
        "Implement the function `image_mosaic()` that gets two images `im1` and `im2`, and a 2D mask `mask` (with values in [0,1]). The function should stitch the images, according to the mask.\n",
        "\n",
        "**Note:** The article uses a binary mask in order to choose the value at each point in the pyramid. However, in order to avoid sharp transitions and get appealing results, we need to smooth the mask a bit at each pyramid level. Smooth the `mask` with `5x5` uniform filter before downscaling it."
      ],
      "metadata": {
        "deletable": false,
        "editable": false,
        "nbgrader": {
          "cell_type": "markdown",
          "checksum": "6c053afa7b056e5b65b28793918ef276",
          "grade": false,
          "grade_id": "cell-7d4c9544547cfba3",
          "locked": true,
          "schema_version": 3,
          "solution": false
        }
      }
    },
    {
      "cell_type": "code",
      "source": [
        "def image_mosaic(im1, im2, mask, depth, a):\n",
        "    \"\"\"Stich two images together\n",
        "    \n",
        "    Args:\n",
        "        im1 (np.ndarray): first image to stich (where `mask=0`)\n",
        "        im2 (np.ndarray): second image to stich (where `mask=1`)\n",
        "        mask (np.ndarray): mask to select what part to take from which image\n",
        "        depth (int): how many pyramid levels to use in for smooth result\n",
        "        a (float): kernel parameter\n",
        "    \n",
        "    Returns:\n",
        "        np.ndarray: stiched images according to mask\n",
        "    \"\"\"\n",
        "    # YOUR CODE HERE\n",
        "    # this part is in the last green box in the second article\n",
        "    # we sould fitst build the laplasian of both images and then create new one based on them\n",
        "    # for the laplas we should have a kernel\n",
        "    kernel = pyramid_kernel(a)\n",
        "    laplas1 = laplacian_reduce(im1,kernel,depth)\n",
        "    laplas2 = laplacian_reduce(im2,kernel,depth)\n",
        "    uniform = pyramid_kernel(a=0) #Uniform 5X5 mask that sums up to 1 \n",
        "    new = [] #The combined pyramid we will construct\n",
        "    for i in range(depth + 1): #Run over all the depths plus one\n",
        "    # 😑 failed on the tests where the depth was zero (one layer... :-( ))\n",
        "    #     # instead of 'if where mask = 1 or mask =0, we can 'convolve them' like this'\n",
        "    #     # where mask=1 laplas2 should be used\n",
        "        new.append(mask*(laplas2[i]) + (1-mask)*(laplas1[i])) \n",
        "        mask = conv2d(mask,uniform) #Smoothen the mask\n",
        "        mask = mask[::2,::2,:] #sub the mask for the next layer\n",
        "    \n",
        "    return laplacian_expand(new,kernel) #Reconstruct the new image after masking"
      ],
      "outputs": [],
      "execution_count": null,
      "metadata": {
        "deletable": false,
        "nbgrader": {
          "cell_type": "code",
          "checksum": "29f355b7136394d432cbdc5f49b9bee9",
          "grade": false,
          "grade_id": "image_mosaic",
          "locked": false,
          "schema_version": 3,
          "solution": true
        },
        "gather": {
          "logged": 1639268192789
        }
      }
    },
    {
      "cell_type": "markdown",
      "source": [
        "### 2.2.3 Test your method: `image_mosaic()`\n",
        "\n",
        "Run the following tests and make sure that `image_mosaic()` works well."
      ],
      "metadata": {
        "deletable": false,
        "editable": false,
        "nbgrader": {
          "cell_type": "markdown",
          "checksum": "905a274e74c4811dcd09c70512967334",
          "grade": false,
          "grade_id": "cell-c6e7e22cfdf9fb20",
          "locked": true,
          "schema_version": 3,
          "solution": false
        }
      }
    },
    {
      "cell_type": "code",
      "source": [
        "MosaicExample = namedtuple('MultiFocusExample', 'name path1 path2 path_mask')\n",
        "test_examples = [\n",
        "    MosaicExample('Orange + Apple',\n",
        "                  'data/mosaic/orange_apple/orange.jpg',\n",
        "                  'data/mosaic/orange_apple/apple.jpg',\n",
        "                  'data/mosaic/orange_apple/orangapple_m.bmp'),\n",
        "    MosaicExample('Monalisa + Obama',\n",
        "                  'data/mosaic/monalisa_obama/monalisa.jpg',\n",
        "                  'data/mosaic/monalisa_obama/obama.jpg',\n",
        "                  'data/mosaic/monalisa_obama/monobama_m.jpg'),\n",
        "    MosaicExample('Michal + Tal',\n",
        "                  'data/mosaic/michal_tal/michal.bmp',\n",
        "                  'data/mosaic/michal_tal/tal.bmp',\n",
        "                  'data/mosaic/michal_tal/michtal_m.bmp'),\n",
        "]\n",
        "examples_outputs = widgets.Accordion(children=[widgets.Output() for _ in range(len(test_examples))])\n",
        "\n",
        "kernel = pyramid_kernel(a)\n",
        "for i, example in enumerate(test_examples):\n",
        "    # set example name\n",
        "    examples_outputs.set_title(i, example.name)\n",
        "    \n",
        "    # plot inside example's area\n",
        "    with examples_outputs.children[i]:\n",
        "        im1 = imread(example.path1)\n",
        "        im2 = imread(example.path2)\n",
        "        mask = imread(example.path_mask)\n",
        "        mosaic_naive = image_mosaic(im1, im2, mask, depth=0, a=a)\n",
        "        mosaic = image_mosaic(im1, im2, mask, depth=depth, a=a)\n",
        "        images = [mosaic, mosaic_naive, im1, im2, mask]\n",
        "        tab_names = ['Mosaic', 'Naive Mosaic', 'Image 1', 'Image 2', 'Mask']\n",
        "        imshow_tabs(images, tab_names)\n",
        "        \n",
        "display(examples_outputs)"
      ],
      "outputs": [],
      "execution_count": null,
      "metadata": {
        "deletable": false,
        "editable": false,
        "nbgrader": {
          "cell_type": "code",
          "checksum": "7dcae0e2de5d227b5efa5a5a0dda5589",
          "grade": true,
          "grade_id": "cell-38e9c41d25efb93a",
          "locked": true,
          "points": 15,
          "schema_version": 3,
          "solution": false
        },
        "gather": {
          "logged": 1639268200575
        }
      }
    }
  ],
  "metadata": {
    "kernelspec": {
      "name": "python3",
      "language": "python",
      "display_name": "Python 3"
    },
    "language_info": {
      "name": "python",
      "version": "3.6.9",
      "mimetype": "text/x-python",
      "codemirror_mode": {
        "name": "ipython",
        "version": 3
      },
      "pygments_lexer": "ipython3",
      "nbconvert_exporter": "python",
      "file_extension": ".py"
    },
    "kernel_info": {
      "name": "python3"
    },
    "nteract": {
      "version": "nteract-front-end@1.0.0"
    },
    "microsoft": {
      "host": {
        "AzureML": {
          "notebookHasBeenCompleted": true
        }
      }
    }
  },
  "nbformat": 4,
  "nbformat_minor": 2
}
